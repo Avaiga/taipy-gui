{
 "cells": [
  {
   "cell_type": "code",
   "execution_count": 1,
   "id": "fbd54fe1",
   "metadata": {
    "tags": [
     "import"
    ]
   },
   "outputs": [
    {
     "ename": "ModuleNotFoundError",
     "evalue": "No module named 'taipy_proxy.gui'",
     "output_type": "error",
     "traceback": [
      "\u001b[0;31m---------------------------------------------------------------------------\u001b[0m",
      "\u001b[0;31mModuleNotFoundError\u001b[0m                       Traceback (most recent call last)",
      "Input \u001b[0;32mIn [1]\u001b[0m, in \u001b[0;36m<cell line: 1>\u001b[0;34m()\u001b[0m\n\u001b[0;32m----> 1\u001b[0m \u001b[38;5;28;01mfrom\u001b[39;00m \u001b[38;5;21;01mtaipy_proxy\u001b[39;00m\u001b[38;5;21;01m.\u001b[39;00m\u001b[38;5;21;01mgui\u001b[39;00m \u001b[38;5;28;01mimport\u001b[39;00m Gui, Markdown\n",
      "\u001b[0;31mModuleNotFoundError\u001b[0m: No module named 'taipy_proxy.gui'"
     ]
    }
   ],
   "source": [
    "from taipy.gui import Gui, Markdown"
   ]
  },
  {
   "cell_type": "code",
   "execution_count": null,
   "id": "301d6ab4",
   "metadata": {
    "tags": [
     "page_declaration"
    ]
   },
   "outputs": [],
   "source": [
    "page = Markdown(\"# Hello\")"
   ]
  },
  {
   "cell_type": "code",
   "execution_count": null,
   "id": "998cbb6f",
   "metadata": {
    "tags": [
     "gui_init"
    ]
   },
   "outputs": [],
   "source": [
    "gui = Gui()\n",
    "gui.add_page(\"page1\", page)"
   ]
  },
  {
   "cell_type": "code",
   "execution_count": null,
   "id": "50d524c2",
   "metadata": {
    "tags": [
     "gui_run"
    ]
   },
   "outputs": [],
   "source": [
    "gui.run()"
   ]
  },
  {
   "cell_type": "code",
   "execution_count": null,
   "id": "6b9aecf6",
   "metadata": {
    "tags": [
     "gui_stop"
    ]
   },
   "outputs": [],
   "source": [
    "gui.stop()"
   ]
  },
  {
   "cell_type": "code",
   "execution_count": null,
   "id": "9db9e339",
   "metadata": {
    "tags": [
     "gui_re_run"
    ]
   },
   "outputs": [],
   "source": [
    "gui.run()"
   ]
  },
  {
   "cell_type": "code",
   "execution_count": null,
   "id": "6fea38f8",
   "metadata": {
    "tags": [
     "gui_re_stop"
    ]
   },
   "outputs": [],
   "source": [
    "gui.stop()"
   ]
  }
 ],
 "metadata": {
  "celltoolbar": "Tags",
  "kernelspec": {
   "display_name": "Python 3 (ipykernel)",
   "language": "python",
   "name": "python3"
  },
  "language_info": {
   "codemirror_mode": {
    "name": "ipython",
    "version": 3
   },
   "file_extension": ".py",
   "mimetype": "text/x-python",
   "name": "python",
   "nbconvert_exporter": "python",
   "pygments_lexer": "ipython3",
   "version": "3.9.12"
  },
  "vscode": {
   "interpreter": {
    "hash": "f81c1c330ff76e7e2c4accc0f953a67e4f184dd1f43b2c6b6dd2818d8aa11ecb"
   }
  }
 },
 "nbformat": 4,
 "nbformat_minor": 5
}
